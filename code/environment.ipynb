{
 "cells": [
  {
   "cell_type": "markdown",
   "id": "ed5b89ab",
   "metadata": {},
   "source": [
    "# 説明"
   ]
  },
  {
   "cell_type": "markdown",
   "id": "ba29d142",
   "metadata": {},
   "source": [
    "GPUが使用できるように環境構築"
   ]
  },
  {
   "cell_type": "markdown",
   "id": "42e2b029",
   "metadata": {},
   "source": [
    "参考  \n",
    "https://keita-blog.com/data_science/keras-tensorflow-gpu  \n",
    "https://tech.briswell.com/entry/2022/02/28/174325  \n",
    "      "
   ]
  },
  {
   "cell_type": "markdown",
   "id": "454967b5",
   "metadata": {},
   "source": [
    "# 環境\n",
    "GPU　NVIDIA GeForce GTX 1060  \n",
    "OS Windows 10  \n",
    "python 3.9.7  \n",
    "NVIDIA ドライババージョン 531.68  \n",
    "CUDA 12.1  \n",
    "cuDNN 8.9.0  \n",
    "tensorflow 2.10.0"
   ]
  },
  {
   "cell_type": "markdown",
   "id": "6ff30fd4",
   "metadata": {},
   "source": [
    "## CUDA/cuDNNなどのバージョン確認\n",
    "https://shift101.hatenablog.com/entry/2022/02/27/200953"
   ]
  },
  {
   "cell_type": "markdown",
   "id": "27a8157e",
   "metadata": {},
   "source": [
    "### GPU"
   ]
  },
  {
   "cell_type": "code",
   "execution_count": 3,
   "id": "a6b10a2d",
   "metadata": {
    "scrolled": true
   },
   "outputs": [
    {
     "name": "stdout",
     "output_type": "stream",
     "text": [
      "name\n",
      "NVIDIA GeForce GTX 1060\n"
     ]
    }
   ],
   "source": [
    "!nvidia-smi --query-gpu=name --format=csv"
   ]
  },
  {
   "cell_type": "markdown",
   "id": "2b7eb91b",
   "metadata": {},
   "source": [
    "### CUDA"
   ]
  },
  {
   "cell_type": "code",
   "execution_count": 5,
   "id": "4d09e4b6",
   "metadata": {
    "scrolled": true
   },
   "outputs": [
    {
     "name": "stdout",
     "output_type": "stream",
     "text": [
      "nvcc: NVIDIA (R) Cuda compiler driver\n",
      "Copyright (c) 2005-2023 NVIDIA Corporation\n",
      "Built on Mon_Apr__3_17:36:15_Pacific_Daylight_Time_2023\n",
      "Cuda compilation tools, release 12.1, V12.1.105\n",
      "Build cuda_12.1.r12.1/compiler.32688072_0\n"
     ]
    }
   ],
   "source": [
    "!nvcc -V"
   ]
  },
  {
   "cell_type": "markdown",
   "id": "f4b093c1",
   "metadata": {},
   "source": [
    "### cuDNN"
   ]
  },
  {
   "cell_type": "code",
   "execution_count": 11,
   "id": "aa27e2b8",
   "metadata": {},
   "outputs": [
    {
     "name": "stdout",
     "output_type": "stream",
     "text": [
      "C:\\Program Files\\NVIDIA GPU Computing Toolkit\\CUDA\\v12.1\\bin\\cudnn64_8.dll\n"
     ]
    }
   ],
   "source": [
    "#保管場所\n",
    "!where cudnn64_*.dll"
   ]
  },
  {
   "cell_type": "code",
   "execution_count": 12,
   "id": "9dfef39e",
   "metadata": {
    "scrolled": true
   },
   "outputs": [
    {
     "name": "stdout",
     "output_type": "stream",
     "text": [
      "\n",
      "---------- C:\\PROGRAM FILES\\NVIDIA GPU COMPUTING TOOLKIT\\CUDA\\V12.1\\INCLUDE\\CUDNN_VERSION.H\n",
      "#define CUDNN_VERSION_H_\n",
      "#define CUDNN_MAJOR 8\n",
      "#define CUDNN_MINOR 9\n",
      "#define CUDNN_PATCHLEVEL 0\n",
      "#define CUDNN_VERSION (CUDNN_MAJOR * 1000 + CUDNN_MINOR * 100 + CUDNN_PATCHLEVEL)\n",
      "#define CUDNN_MAX_SM_MAJOR_NUMBER 9\n",
      "#define CUDNN_MAX_SM_MINOR_NUMBER 0\n",
      "#define CUDNN_MAX_DEVICE_VERSION (CUDNN_MAX_SM_MAJOR_NUMBER * 100 + CUDNN_MAX_SM_MINOR_NUMBER * 10)\n",
      "#define CUDNN_SM_50 500\n",
      "#define CUDNN_SM_52 520\n",
      "#define CUDNN_SM_53 530\n",
      "#define CUDNN_SM_60 600\n",
      "#define CUDNN_SM_61 610\n",
      "#define CUDNN_SM_62 620\n",
      "#define CUDNN_SM_70 700\n",
      "#define CUDNN_SM_72 720\n",
      "#define CUDNN_SM_75 750\n",
      "#define CUDNN_SM_80 800\n",
      "#define CUDNN_SM_86 860\n",
      "#define CUDNN_SM_87 870\n",
      "#define CUDNN_SM_89 890\n",
      "#define CUDNN_SM_90 900\n",
      "#define CUDNN_SM_9X_END 999\n",
      "#define CUDNN_MIN_DEVICE_VERSION CUDNN_SM_50\n"
     ]
    }
   ],
   "source": [
    "#バージョン確認\n",
    "!find \"#define\" \"C:\\Program Files\\NVIDIA GPU Computing Toolkit\\CUDA\\v12.1\\include\\cudnn_version.h\""
   ]
  },
  {
   "cell_type": "code",
   "execution_count": null,
   "id": "3102d088",
   "metadata": {},
   "outputs": [],
   "source": []
  },
  {
   "cell_type": "code",
   "execution_count": 1,
   "id": "195a8cc2",
   "metadata": {},
   "outputs": [
    {
     "name": "stdout",
     "output_type": "stream",
     "text": [
      "Num GPUs Available:  1\n"
     ]
    }
   ],
   "source": [
    "import tensorflow as tf\n",
    "print(\"Num GPUs Available: \", len(tf.config.list_physical_devices('GPU')))"
   ]
  },
  {
   "cell_type": "code",
   "execution_count": 2,
   "id": "7bab114e",
   "metadata": {},
   "outputs": [
    {
     "data": {
      "text/plain": [
       "[name: \"/device:CPU:0\"\n",
       " device_type: \"CPU\"\n",
       " memory_limit: 268435456\n",
       " locality {\n",
       " }\n",
       " incarnation: 15023110817937221767\n",
       " xla_global_id: -1,\n",
       " name: \"/device:GPU:0\"\n",
       " device_type: \"GPU\"\n",
       " memory_limit: 4841275392\n",
       " locality {\n",
       "   bus_id: 1\n",
       "   links {\n",
       "   }\n",
       " }\n",
       " incarnation: 15680440680054607396\n",
       " physical_device_desc: \"device: 0, name: NVIDIA GeForce GTX 1060, pci bus id: 0000:01:00.0, compute capability: 6.1\"\n",
       " xla_global_id: 416903419]"
      ]
     },
     "execution_count": 2,
     "metadata": {},
     "output_type": "execute_result"
    }
   ],
   "source": [
    "#TensorFlowがGPUを認識しているか確認\n",
    "from tensorflow.python.client import device_lib\n",
    "device_lib.list_local_devices()"
   ]
  },
  {
   "cell_type": "code",
   "execution_count": 4,
   "id": "7b9e5591",
   "metadata": {},
   "outputs": [
    {
     "name": "stdout",
     "output_type": "stream",
     "text": [
      "WARNING:tensorflow:From C:\\Users\\sharu\\AppData\\Local\\Temp/ipykernel_6392/337460670.py:1: is_gpu_available (from tensorflow.python.framework.test_util) is deprecated and will be removed in a future version.\n",
      "Instructions for updating:\n",
      "Use `tf.config.list_physical_devices('GPU')` instead.\n"
     ]
    },
    {
     "data": {
      "text/plain": [
       "True"
      ]
     },
     "execution_count": 4,
     "metadata": {},
     "output_type": "execute_result"
    }
   ],
   "source": [
    "tf.test.is_gpu_available()"
   ]
  },
  {
   "cell_type": "code",
   "execution_count": 6,
   "id": "a9a17e1c",
   "metadata": {},
   "outputs": [
    {
     "name": "stdout",
     "output_type": "stream",
     "text": [
      "Epoch 1/5\n",
      "1875/1875 [==============================] - 6s 3ms/step - loss: 0.2952 - accuracy: 0.9150\n",
      "Epoch 2/5\n",
      "1875/1875 [==============================] - 6s 3ms/step - loss: 0.1416 - accuracy: 0.9572\n",
      "Epoch 3/5\n",
      "1875/1875 [==============================] - 6s 3ms/step - loss: 0.1064 - accuracy: 0.9671\n",
      "Epoch 4/5\n",
      "1875/1875 [==============================] - 6s 3ms/step - loss: 0.0873 - accuracy: 0.9729\n",
      "Epoch 5/5\n",
      "1875/1875 [==============================] - 6s 3ms/step - loss: 0.0750 - accuracy: 0.9759\n",
      "313/313 [==============================] - 1s 3ms/step - loss: 0.0775 - accuracy: 0.9768\n"
     ]
    },
    {
     "data": {
      "text/plain": [
       "[0.0774681493639946, 0.9768000245094299]"
      ]
     },
     "execution_count": 6,
     "metadata": {},
     "output_type": "execute_result"
    }
   ],
   "source": [
    "mnist = tf.keras.datasets.mnist\n",
    " \n",
    "(x_train, y_train),(x_test, y_test) = mnist.load_data()\n",
    "x_train, x_test = x_train / 255.0, x_test / 255.0\n",
    " \n",
    "model = tf.keras.models.Sequential([\n",
    "  tf.keras.layers.Flatten(input_shape=(28, 28)),\n",
    "  tf.keras.layers.Dense(128, activation='relu'),\n",
    "  tf.keras.layers.Dropout(0.2),\n",
    "  tf.keras.layers.Dense(10, activation='softmax')\n",
    "])\n",
    " \n",
    "model.compile(optimizer='adam',\n",
    "              loss='sparse_categorical_crossentropy',\n",
    "              metrics=['accuracy'])\n",
    " \n",
    "model.fit(x_train, y_train, epochs=5)\n",
    "model.evaluate(x_test, y_test)"
   ]
  }
 ],
 "metadata": {
  "kernelspec": {
   "display_name": "Python 3 (ipykernel)",
   "language": "python",
   "name": "python3"
  },
  "language_info": {
   "codemirror_mode": {
    "name": "ipython",
    "version": 3
   },
   "file_extension": ".py",
   "mimetype": "text/x-python",
   "name": "python",
   "nbconvert_exporter": "python",
   "pygments_lexer": "ipython3",
   "version": "3.9.7"
  }
 },
 "nbformat": 4,
 "nbformat_minor": 5
}
